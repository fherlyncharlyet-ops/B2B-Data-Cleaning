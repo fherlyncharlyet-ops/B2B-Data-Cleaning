{
  "nbformat": 4,
  "nbformat_minor": 0,
  "metadata": {
    "colab": {
      "provenance": []
    },
    "kernelspec": {
      "name": "python3",
      "display_name": "Python 3"
    },
    "language_info": {
      "name": "python"
    }
  },
  "cells": [
    {
      "cell_type": "code",
      "execution_count": null,
      "metadata": {
        "id": "PMRqnAGLkfp1"
      },
      "outputs": [],
      "source": [
        "import pandas as pd\n",
        "import numpy as np\n",
        "from google.colab  import drive\n",
        "import os\n",
        "drive.mount('/content/drive')"
      ]
    },
    {
      "cell_type": "code",
      "source": [
        "# Get the file path input from the user\n",
        "file_path = input(\"Enter the CSV filename (e.g., 'china_address.csv'): \").strip()\n",
        "\n",
        "# Define the full path where your files are stored\n",
        "default_file = \"/content/drive/MyDrive/Business Intelligence/1. Control Techniques/12. Special Folder/Default_Category.csv\"\n",
        "input_file = f\"/content/drive/MyDrive/Business Intelligence/1. Control Techniques/12. Special Folder/{file_path}\"\n",
        "\n",
        "# Check if the files exist\n",
        "if not os.path.exists(default_file):\n",
        "    raise FileNotFoundError(f\"The default file '{default_file}' does not exist.\")\n",
        "if not os.path.exists(input_file):\n",
        "    raise FileNotFoundError(f\"The input file '{input_file}' does not exist.\")\n",
        "\n",
        "# Read the CSV files into DataFrames\n",
        "default_df = pd.read_csv(default_file, encoding='latin1')\n",
        "country_df = pd.read_csv(input_file, encoding='latin1')\n",
        "\n",
        "# Validate column existence\n",
        "if 'Category' not in default_df.columns or 'Category' not in country_df.columns:\n",
        "    raise KeyError(\"The 'Category' column is missing in one or both files.\")\n",
        "if 'Business Model' not in default_df.columns or 'Business Model' not in country_df.columns:\n",
        "    raise KeyError(\"The 'Business Model' column is missing in one or both files.\")\n",
        "\n",
        "# Ensure consistent formatting for default data (strip whitespace and lowercase)\n",
        "country_df['Category'] = country_df['Category'].str.strip().str.lower().fillna('')\n",
        "default_df['Category'] = default_df['Category'].str.strip().str.lower().fillna('')\n",
        "country_df['Business Model'] = country_df['Business Model'].str.strip().str.lower().fillna('')\n",
        "default_df['Business Model'] = default_df['Business Model'].str.strip().str.lower().fillna('')\n",
        "\n",
        "# Extract default categories and valid pairs\n",
        "default_categories = default_df['Category'].tolist()\n",
        "valid_pairs = set(zip(default_df['Business Model'], default_df['Category']))\n",
        "\n",
        "# Function to check and clean invalid categories\n",
        "def clean_category(category, original_category):\n",
        "    # Check if the original category is already valid (exact match)\n",
        "    if original_category.lower() in [x.lower() for x in default_categories]:\n",
        "        return original_category, False  # Don't change if it's already valid\n",
        "\n",
        "    # Track if the category is valid or invalid\n",
        "    for default in default_categories:\n",
        "        if default in category.lower():\n",
        "            return default.title(), False  # Return cleaned category and valid (False means valid)\n",
        "\n",
        "    # Return original category and mark as invalid\n",
        "    return original_category, True\n",
        "\n",
        "# Apply the cleaning function and create the 'invalid_category' column\n",
        "country_df['Category'], country_df['invalid_category'] = zip(*country_df['Category'].apply(lambda x: clean_category(x, x)))\n",
        "\n",
        "# Function to validate the (Business Model, Category) combination\n",
        "def validate_business_model(row):\n",
        "    if (row['Business Model'], row['Category'].lower()) not in valid_pairs:\n",
        "        return 1  # Mark as invalid\n",
        "    return 0  # Mark as valid\n",
        "\n",
        "# Update 'invalid_category' based on Business Model-Category combination\n",
        "country_df['invalid_category'] = country_df.apply(validate_business_model, axis=1)\n",
        "\n",
        "# Convert 'Category' and 'Business Model' columns to title case\n",
        "country_df['Category'] = country_df['Category'].str.title()\n",
        "country_df['Business Model'] = country_df['Business Model'].str.title()\n",
        "\n",
        "# Define output path and create the directory if needed\n",
        "output_dir = \"/content/drive/MyDrive/Business Intelligence/1. Control Techniques/12. Special Folder/Output/\"\n",
        "os.makedirs(output_dir, exist_ok=True)\n",
        "output_path = os.path.join(output_dir, file_path)\n",
        "\n",
        "# Save the updated DataFrame\n",
        "country_df.to_csv(output_path, index=False)\n",
        "\n",
        "print(f\"File processed successfully. Saved to {output_path}\")\n"
      ],
      "metadata": {
        "id": "Uoh-W_wAkhpI"
      },
      "execution_count": null,
      "outputs": []
    }
  ]
}